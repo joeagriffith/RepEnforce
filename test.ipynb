{
 "cells": [
  {
   "cell_type": "code",
   "execution_count": 19,
   "metadata": {},
   "outputs": [],
   "source": [
    "import torch\n",
    "from datasets.mnist import MNIST\n",
    "from torch.utils.tensorboard import SummaryWriter\n",
    "import matplotlib.pyplot as plt\n",
    "import torchvision\n",
    "import os\n",
    "from ipywidgets import interact, FloatSlider\n",
    "import pandas as pd\n",
    "import numpy as np\n",
    "\n",
    "\n",
    "from nn.enforced_ae import EnforcedAE\n",
    "from nn.ae import AE\n",
    "from train import train\n",
    "from schedule import cosine_schedule\n",
    "\n",
    "\n",
    "device = torch.device('cuda' if torch.cuda.is_available() else 'cpu')   \n"
   ]
  },
  {
   "cell_type": "code",
   "execution_count": 2,
   "metadata": {},
   "outputs": [
    {
     "name": "stderr",
     "output_type": "stream",
     "text": [
      "                                                        \r"
     ]
    }
   ],
   "source": [
    "train_dataset = MNIST(root='../../datasets', split='train', download=False, device=device, normalize=False, augment=True)\n",
    "val_dataset = MNIST(root='../../datasets', split='val', download=False, device=device, normalize=False)\n",
    "test_dataset = MNIST(root='../../datasets', split='test', download=False, device=device, normalize=False)"
   ]
  },
  {
   "cell_type": "code",
   "execution_count": 90,
   "metadata": {},
   "outputs": [
    {
     "name": "stderr",
     "output_type": "stream",
     "text": [
      "/tmp/ipykernel_267107/2274956900.py:8: FutureWarning: You are using `torch.load` with `weights_only=False` (the current default value), which uses the default pickle module implicitly. It is possible to construct malicious pickle data which will execute arbitrary code during unpickling (See https://github.com/pytorch/pytorch/blob/main/SECURITY.md#untrusted-models for more details). In a future release, the default value for `weights_only` will be flipped to `True`. This limits the functions that could be executed during unpickling. Arbitrary objects will no longer be allowed to be loaded via this mode unless they are explicitly allowlisted by the user via `torch.serialization.add_safe_globals`. We recommend you start setting `weights_only=True` for any use case where you don't have full control of the loaded file. Please open an issue on GitHub for any issues related to this experimental feature.\n",
      "  model.load_state_dict(torch.load(f'out/models/{experiment_name}/{trial_name}/run_0.pt'))\n"
     ]
    }
   ],
   "source": [
    "experiment_name = 'base'\n",
    "trial_name = 'ae_cnn20_schedules'\n",
    "load=True\n",
    "\n",
    "model = AE(in_channels=1, z_dim=20, cnn=True).to(device)\n",
    "\n",
    "if load:\n",
    "    model.load_state_dict(torch.load(f'out/models/{experiment_name}/{trial_name}/run_0.pt'))\n",
    "else:\n",
    "\n",
    "    optimiser = torch.optim.AdamW(model.parameters(), lr=1e-3)\n",
    "    num_epochs = 200\n",
    "    batch_size = 256\n",
    "    compute_dtype = torch.bfloat16\n",
    "\n",
    "    hyperparams = {\n",
    "        'lr': cosine_schedule(base=1e-3, end=1e-4, T=num_epochs, warmup=10, flat_end=10),\n",
    "        'wd': cosine_schedule(base=0.004, end=0.1, T=num_epochs)\n",
    "    }\n",
    "\n",
    "    trial_log_dir = f'out/logs/{experiment_name}/{trial_name}'\n",
    "    run_no = 0\n",
    "    while os.path.exists(trial_log_dir + f'/run_{run_no}'):\n",
    "        run_no += 1\n",
    "    writer = SummaryWriter(trial_log_dir + f'/run_{run_no}')\n",
    "    save_dir = f'out/models/{experiment_name}/{trial_name}/'\n",
    "    if not os.path.exists(save_dir):\n",
    "        os.makedirs(save_dir)\n",
    "    save_dir=save_dir + f'run_{run_no}.pt'\n",
    "\n",
    "\n",
    "    train(model, train_dataset, val_dataset, optimiser, num_epochs=num_epochs, batch_size=batch_size, writer=writer, compute_dtype=compute_dtype, save_dir=save_dir, epoch_hyperparams=hyperparams)"
   ]
  },
  {
   "cell_type": "code",
   "execution_count": 96,
   "metadata": {},
   "outputs": [
    {
     "name": "stderr",
     "output_type": "stream",
     "text": [
      "/tmp/ipykernel_267107/3862017267.py:9: FutureWarning: You are using `torch.load` with `weights_only=False` (the current default value), which uses the default pickle module implicitly. It is possible to construct malicious pickle data which will execute arbitrary code during unpickling (See https://github.com/pytorch/pytorch/blob/main/SECURITY.md#untrusted-models for more details). In a future release, the default value for `weights_only` will be flipped to `True`. This limits the functions that could be executed during unpickling. Arbitrary objects will no longer be allowed to be loaded via this mode unless they are explicitly allowlisted by the user via `torch.serialization.add_safe_globals`. We recommend you start setting `weights_only=True` for any use case where you don't have full control of the loaded file. Please open an issue on GitHub for any issues related to this experimental feature.\n",
      "  model.load_state_dict(torch.load(f'out/models/{experiment_name}/{trial_name}/run_0.pt'))\n"
     ]
    }
   ],
   "source": [
    "experiment_name = 'base'\n",
    "trial_name = 'base_cnn20_schedules'\n",
    "load=True\n",
    "\n",
    "\n",
    "model = EnforcedAE(in_channels=1, z_dim=20, cnn=True).to(device)\n",
    "\n",
    "if load:\n",
    "    model.load_state_dict(torch.load(f'out/models/{experiment_name}/{trial_name}/run_0.pt'))\n",
    "else:\n",
    "\n",
    "    optimiser = torch.optim.AdamW(model.parameters(), lr=1e-3)\n",
    "    num_epochs = 200\n",
    "    batch_size = 256\n",
    "    compute_dtype = torch.bfloat16\n",
    "\n",
    "    hyperparams = {\n",
    "        'lr': cosine_schedule(base=1e-3, end=1e-4, T=num_epochs, warmup=10, flat_end=10),\n",
    "        'wd': cosine_schedule(base=0.004, end=0.1, T=num_epochs)\n",
    "    }\n",
    "\n",
    "    trial_log_dir = f'out/logs/{experiment_name}/{trial_name}'\n",
    "    run_no = 0\n",
    "    while os.path.exists(trial_log_dir + f'/run_{run_no}'):\n",
    "        run_no += 1\n",
    "    writer = SummaryWriter(trial_log_dir + f'/run_{run_no}')\n",
    "    save_dir = f'out/models/{experiment_name}/{trial_name}/'\n",
    "    if not os.path.exists(save_dir):\n",
    "        os.makedirs(save_dir)\n",
    "    save_dir=save_dir + f'run_{run_no}.pt'\n",
    "\n",
    "\n",
    "    train(model, train_dataset, val_dataset, optimiser, num_epochs=num_epochs, batch_size=batch_size, writer=writer, compute_dtype=compute_dtype, save_dir=save_dir, epoch_hyperparams=hyperparams)"
   ]
  },
  {
   "cell_type": "code",
   "execution_count": 100,
   "metadata": {},
   "outputs": [
    {
     "data": {
      "application/vnd.jupyter.widget-view+json": {
       "model_id": "c614f079b4574e7185d046557d634056",
       "version_major": 2,
       "version_minor": 0
      },
      "text/plain": [
       "interactive(children=(FloatSlider(value=-7.502201333409175e-05, description='rotation', max=3.0, min=-3.0), Fl…"
      ]
     },
     "metadata": {},
     "output_type": "display_data"
    }
   ],
   "source": [
    "# OFFSET LATENTS\n",
    "test_loader = torch.utils.data.DataLoader(test_dataset, batch_size=1, shuffle=False)\n",
    "\n",
    "images, _= next(iter(test_loader))\n",
    "z = model.infer(images)\n",
    "def plot_images_with_widgets(model, images):\n",
    "    def update(z0=0., z1=0., z2=0., z3=0., z4=0.):\n",
    "        latents = z.clone().detach()\n",
    "        latents[:, :5] = torch.tensor([z0, z1, z2, z3, z4]).to(device)\n",
    "        # images_hat = model.decode(latents).detach()\n",
    "        images_hat = model.transform_images(images, torch.tensor([z0, z1, z2, z3, z4]).to(device))[0]\n",
    "\n",
    "        import matplotlib.pyplot as plt\n",
    "\n",
    "        # Plot original images\n",
    "        fig, axes = plt.subplots(1, 2, figsize=(12, 6))\n",
    "        axes[0].imshow(torchvision.utils.make_grid(images.cpu(), nrow=1, padding=2, normalize=True).permute(1, 2, 0))\n",
    "        axes[0].set_title('Input')\n",
    "        axes[0].axis('off')\n",
    "\n",
    "        axes[1].imshow(torchvision.utils.make_grid(images_hat.cpu(), nrow=1, padding=2, normalize=True).permute(1, 2, 0))\n",
    "        axes[1].set_title('Target')\n",
    "        axes[1].axis('off')\n",
    "\n",
    "        plt.show()\n",
    "    \n",
    "    interact(update, \n",
    "             z0=FloatSlider(min=-3.0, max=3.0, step=0.1, value=z[:,0].item(), description='rotation'),\n",
    "             z1=FloatSlider(min=-3.0, max=3.0, step=0.1, value=z[:,1].item(), description='x offset'),\n",
    "             z2=FloatSlider(min=-3.0, max=3.0, step=0.1, value=z[:,2].item(), description='y offset'),\n",
    "             z3=FloatSlider(min=-3.0, max=3.0, step=0.1, value=z[:,3].item(), description='scale'),\n",
    "             z4=FloatSlider(min=-3.0, max=3.0, step=0.1, value=z[:,4].item(), description='shear'))\n",
    "\n",
    "plot_images_with_widgets(model, images)"
   ]
  },
  {
   "cell_type": "code",
   "execution_count": null,
   "metadata": {},
   "outputs": [],
   "source": [
    "\n",
    "test_loader = torch.utils.data.DataLoader(test_dataset, batch_size=8, shuffle=False)\n",
    "\n",
    "images, _= next(iter(test_loader))\n",
    "def plot_images_with_widgets(model, images):\n",
    "    def update(rotation=0., translate_x=0., translate_y=0., scale=1., shear=0.):\n",
    "        action = torch.tensor([rotation, translate_x, translate_y, scale, shear]).to(device)\n",
    "        images_aug, actions = model.transform_images(images, action)\n",
    "        images_hat = model(images, action)[0]\n",
    "\n",
    "        import matplotlib.pyplot as plt\n",
    "\n",
    "        # Plot original images\n",
    "        fig, axes = plt.subplots(1, 3, figsize=(12, 6))\n",
    "        axes[0].imshow(torchvision.utils.make_grid(images.cpu(), nrow=4, padding=2, normalize=True).permute(1, 2, 0))\n",
    "        axes[0].set_title('Original Inputs')\n",
    "        axes[0].axis('off')\n",
    "\n",
    "        axes[1].imshow(torchvision.utils.make_grid(images_aug.cpu(), nrow=4, padding=2, normalize=True).permute(1, 2, 0))\n",
    "        axes[1].set_title('Transformed Targets')\n",
    "        axes[1].axis('off')\n",
    "\n",
    "        axes[2].imshow(torchvision.utils.make_grid(images_hat.cpu(), nrow=4, padding=2, normalize=True).permute(1, 2, 0))\n",
    "        axes[2].set_title('Output Predictions')\n",
    "        axes[2].axis('off')\n",
    "\n",
    "        plt.show()\n",
    "    \n",
    "    interact(update, \n",
    "             rotation=FloatSlider(min=-1.0, max=1.0, step=0.1, value=0.),\n",
    "             translate_x=FloatSlider(min=-1.0, max=1.0, step=0.1, value=0.),\n",
    "             translate_y=FloatSlider(min=-1.0, max=1.0, step=0.1, value=0.),\n",
    "             scale=FloatSlider(min=-1.0, max=1.0, step=0.1, value=0.),\n",
    "             shear=FloatSlider(min=-1.0, max=1.0, step=0.1, value=0.))\n",
    "\n",
    "plot_images_with_widgets(model, images)"
   ]
  },
  {
   "cell_type": "code",
   "execution_count": 11,
   "metadata": {},
   "outputs": [
    {
     "data": {
      "application/vnd.jupyter.widget-view+json": {
       "model_id": "fb3cb3606b234bca91613a5b233e82d4",
       "version_major": 2,
       "version_minor": 0
      },
      "text/plain": [
       "interactive(children=(FloatSlider(value=0.0, description='rotation', max=1.0, min=-1.0), FloatSlider(value=0.0…"
      ]
     },
     "metadata": {},
     "output_type": "display_data"
    }
   ],
   "source": [
    "test_loader = torch.utils.data.DataLoader(test_dataset, batch_size=8, shuffle=False)\n",
    "\n",
    "images, _= next(iter(test_loader))\n",
    "def plot_images_with_widgets(model, images):\n",
    "    latents = model.infer(images)\n",
    "    def update(rotation=0., translate_x=0., translate_y=0., scale=1., shear=0.):\n",
    "        action = torch.tensor([rotation, translate_x, translate_y, scale, shear]).to(device)\n",
    "        images_aug, actions = model.transform_images(images, action)\n",
    "        images_hat = model(images, action)[0]\n",
    "\n",
    "        import matplotlib.pyplot as plt\n",
    "\n",
    "        # Plot original images\n",
    "        fig, axes = plt.subplots(1, 3, figsize=(12, 6))\n",
    "        axes[0].imshow(torchvision.utils.make_grid(images.cpu(), nrow=4, padding=2, normalize=True).permute(1, 2, 0))\n",
    "        axes[0].set_title('Original Inputs')\n",
    "        axes[0].axis('off')\n",
    "\n",
    "        axes[1].imshow(torchvision.utils.make_grid(images_aug.cpu(), nrow=4, padding=2, normalize=True).permute(1, 2, 0))\n",
    "        axes[1].set_title('Transformed Targets')\n",
    "        axes[1].axis('off')\n",
    "\n",
    "        axes[2].imshow(torchvision.utils.make_grid(images_hat.cpu(), nrow=4, padding=2, normalize=True).permute(1, 2, 0))\n",
    "        axes[2].set_title('Output Predictions')\n",
    "        axes[2].axis('off')\n",
    "\n",
    "        plt.show()\n",
    "    \n",
    "    interact(update, \n",
    "             rotation=FloatSlider(min=-1.0, max=1.0, step=0.1, value=0.),\n",
    "             translate_x=FloatSlider(min=-1.0, max=1.0, step=0.1, value=0.),\n",
    "             translate_y=FloatSlider(min=-1.0, max=1.0, step=0.1, value=0.),\n",
    "             scale=FloatSlider(min=-1.0, max=1.0, step=0.1, value=0.),\n",
    "             shear=FloatSlider(min=-1.0, max=1.0, step=0.1, value=0.))\n",
    "\n",
    "plot_images_with_widgets(model, images)"
   ]
  },
  {
   "cell_type": "code",
   "execution_count": 92,
   "metadata": {},
   "outputs": [
    {
     "data": {
      "application/vnd.jupyter.widget-view+json": {
       "model_id": "217f92037d98417dbc1591fece8a3ce5",
       "version_major": 2,
       "version_minor": 0
      },
      "text/plain": [
       "interactive(children=(FloatSlider(value=-1.7956098318099976, description='z0', max=3.0, min=-3.0, step=0.01), …"
      ]
     },
     "metadata": {},
     "output_type": "display_data"
    }
   ],
   "source": [
    "\n",
    "def plot_images_with_widgets(model):\n",
    "    idx = torch.randint(0, len(test_dataset), (1,))\n",
    "    image = test_dataset[idx][0]\n",
    "    z = model.infer(image)\n",
    "    def update(z0=0., z1=0., z2=0., z3=0., z4=0., z5=0., z6=0., z7=0., z8=0., z9=0.):\n",
    "        z[:, :10] = torch.tensor([z0, z1, z2, z3, z4, z5, z6, z7, z8, z9])\n",
    "        x_hat = model.decode(z).detach()\n",
    "        fig, axes = plt.subplots(1, 2, figsize=(12, 6))\n",
    "        axes[0].imshow(image.cpu().squeeze(0).permute(1, 2, 0), cmap='gray')\n",
    "        axes[0].set_title('Original Image')\n",
    "        axes[0].axis('off')\n",
    "\n",
    "        axes[1].imshow(x_hat.cpu().squeeze(0).permute(1, 2, 0), cmap='gray')\n",
    "        axes[1].set_title('Reconstructed Image')\n",
    "        axes[1].axis('off')\n",
    "\n",
    "        plt.show()\n",
    "\n",
    "    sliders = {\n",
    "        \n",
    "        'z0': FloatSlider(min=-3.0, max=3.0, step=0.01, value=z[:,0].item()),\n",
    "        'z1': FloatSlider(min=-3.0, max=3.0, step=0.01, value=z[:,1].item()),\n",
    "        'z2': FloatSlider(min=-3.0, max=3.0, step=0.01, value=z[:,2].item()),\n",
    "        'z3': FloatSlider(min=-3.0, max=3.0, step=0.01, value=z[:,3].item()),\n",
    "        'z4': FloatSlider(min=-3.0, max=3.0, step=0.01, value=z[:,4].item()),\n",
    "        'z5': FloatSlider(min=-3.0, max=3.0, step=0.01, value=z[:,5].item()),\n",
    "        'z6': FloatSlider(min=-3.0, max=3.0, step=0.01, value=z[:,6].item()),\n",
    "        'z7': FloatSlider(min=-3.0, max=3.0, step=0.01, value=z[:,7].item()),\n",
    "        'z8': FloatSlider(min=-3.0, max=3.0, step=0.01, value=z[:,8].item()),\n",
    "        'z9': FloatSlider(min=-3.0, max=3.0, step=0.01, value=z[:,9].item()),\n",
    "    }\n",
    "\n",
    "    interact(update, **sliders)\n",
    "\n",
    "plot_images_with_widgets(model)"
   ]
  }
 ],
 "metadata": {
  "kernelspec": {
   "display_name": "ml-env",
   "language": "python",
   "name": "python3"
  },
  "language_info": {
   "codemirror_mode": {
    "name": "ipython",
    "version": 3
   },
   "file_extension": ".py",
   "mimetype": "text/x-python",
   "name": "python",
   "nbconvert_exporter": "python",
   "pygments_lexer": "ipython3",
   "version": "3.12.3"
  }
 },
 "nbformat": 4,
 "nbformat_minor": 2
}
